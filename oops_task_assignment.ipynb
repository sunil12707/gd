{
  "nbformat": 4,
  "nbformat_minor": 0,
  "metadata": {
    "colab": {
      "provenance": []
    },
    "kernelspec": {
      "name": "python3",
      "display_name": "Python 3"
    },
    "language_info": {
      "name": "python"
    }
  },
  "cells": [
    {
      "cell_type": "code",
      "execution_count": null,
      "metadata": {
        "id": "3o7_AFJt51EO"
      },
      "outputs": [],
      "source": []
    },
    {
      "cell_type": "markdown",
      "source": [
        "**Q1. Create a vehicle class with an init method having instance variables as name_of_vehicle, max_speed**"
      ],
      "metadata": {
        "id": "O09Or9A-56Ev"
      }
    },
    {
      "cell_type": "code",
      "source": [
        "class Vehicle:\n",
        "    def __init__(self, name_of_vehicle, max_speed, average_of_vehicle):\n",
        "        self.name_of_vehicle = name_of_vehicle\n",
        "        self.max_speed = max_speed\n",
        "        self.average_of_vehicle = average_of_vehicle\n"
      ],
      "metadata": {
        "id": "w974XOac6CS6"
      },
      "execution_count": 1,
      "outputs": []
    },
    {
      "cell_type": "markdown",
      "source": [
        "**Q2. Create a child class car from the vehicle class created in Que 1, which will inherit the vehicle class.\n",
        "Create a method named seating_capacity which takes capacity as an argument and returns the name of\n",
        "the vehicle and its seating capacity.**"
      ],
      "metadata": {
        "id": "iJ-kuto26M9A"
      }
    },
    {
      "cell_type": "code",
      "source": [
        "class Car(Vehicle):\n",
        "    def __init__(self, name_of_vehicle, max_speed, average_of_vehicle):\n",
        "        super().__init__(name_of_vehicle, max_speed, average_of_vehicle)\n",
        "\n",
        "    def seating_capacity(self, capacity):\n",
        "        return f\"The {self.name_of_vehicle} has a seating capacity of {capacity} people.\"\n"
      ],
      "metadata": {
        "id": "IhIaL6FX6CWf"
      },
      "execution_count": 2,
      "outputs": []
    },
    {
      "cell_type": "markdown",
      "source": [
        "**Q3. What is multiple inheritance? Write a python code to demonstrate multiple inheritance.**"
      ],
      "metadata": {
        "id": "GX9B56gx6iW0"
      }
    },
    {
      "cell_type": "markdown",
      "source": [
        "'''\n",
        "Multiple inheritance in Python refers to the ability of a class to inherit attributes and methods from more than one parent class. This can be useful when you want to combine functionalities from different classes into a single class.\n",
        "'''\n",
        "\n",
        "\n"
      ],
      "metadata": {
        "id": "eWdXgkUz6TFP"
      }
    },
    {
      "cell_type": "code",
      "source": [
        "class Parent1:\n",
        "    def method1(self):\n",
        "        print(\"Method from Parent1\")\n",
        "\n",
        "class Parent2:\n",
        "    def method2(self):\n",
        "        print(\"Method from Parent2\")\n",
        "\n",
        "class Child(Parent1, Parent2):\n",
        "    pass\n",
        "\n",
        "child_obj = Child()\n",
        "child_obj.method1()  # Output: Method from Parent1\n",
        "child_obj.method2()  # Output: Method from Parent2\n"
      ],
      "metadata": {
        "id": "XLjO9Sjp6xsy"
      },
      "execution_count": null,
      "outputs": []
    },
    {
      "cell_type": "markdown",
      "source": [
        "**Q4. What are getter and setter in python? Create a class and create a getter and a setter method in this\n",
        "class.**"
      ],
      "metadata": {
        "id": "hH8gc5R165Pi"
      }
    },
    {
      "cell_type": "code",
      "source": [
        "'''\n",
        "Getter and setter methods are used to access and modify the attributes of a class respectively, providing control over how attributes are accessed and modified.\n",
        "'''\n",
        "\n",
        "class Example:\n",
        "    def __init__(self):\n",
        "        self._value = 0\n",
        "\n",
        "    def get_value(self):\n",
        "        return self._value\n",
        "\n",
        "    def set_value(self, value):\n",
        "        self._value = value\n",
        "\n",
        "# Usage\n",
        "obj = Example()\n",
        "print(obj.get_value())  # Output: 0\n",
        "obj.set_value(10)\n",
        "print(obj.get_value())  # Output: 10\n"
      ],
      "metadata": {
        "colab": {
          "base_uri": "https://localhost:8080/"
        },
        "id": "o49H9VLC6-ht",
        "outputId": "cf3f39c6-b6ea-4443-9fb7-86ebdf531977"
      },
      "execution_count": 3,
      "outputs": [
        {
          "output_type": "stream",
          "name": "stdout",
          "text": [
            "0\n",
            "10\n"
          ]
        }
      ]
    },
    {
      "cell_type": "markdown",
      "source": [
        "**Q5.What is method overriding in python? Write a python code to demonstrate method overriding.**"
      ],
      "metadata": {
        "id": "z0ErEJji7K2D"
      }
    },
    {
      "cell_type": "code",
      "source": [
        "'''\n",
        "Method overriding occurs when a child class provides a specific implementation of a method that is already defined in its parent class.\n",
        "\n",
        "'''\n",
        "\n",
        "class Parent:\n",
        "    def show(self):\n",
        "        print(\"Parent's show method\")\n",
        "\n",
        "class Child(Parent):\n",
        "    def show(self):\n",
        "        print(\"Child's show method\")\n",
        "\n",
        "# Usage\n",
        "obj = Child()\n",
        "obj.show()  # Output: Child's show method\n"
      ],
      "metadata": {
        "colab": {
          "base_uri": "https://localhost:8080/"
        },
        "id": "XxILUz1y7IMM",
        "outputId": "f5bf6a8d-b190-4f6f-fd44-b26cf1420da7"
      },
      "execution_count": 4,
      "outputs": [
        {
          "output_type": "stream",
          "name": "stdout",
          "text": [
            "Child's show method\n"
          ]
        }
      ]
    },
    {
      "cell_type": "code",
      "source": [],
      "metadata": {
        "id": "mcq9uJC57YMU"
      },
      "execution_count": null,
      "outputs": []
    }
  ]
}